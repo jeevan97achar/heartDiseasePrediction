{
  "nbformat": 4,
  "nbformat_minor": 0,
  "metadata": {
    "colab": {
      "provenance": [],
      "authorship_tag": "ABX9TyPeodRLIPb1rtbSJffGnU2J",
      "include_colab_link": true
    },
    "kernelspec": {
      "name": "python3",
      "display_name": "Python 3"
    },
    "language_info": {
      "name": "python"
    }
  },
  "cells": [
    {
      "cell_type": "markdown",
      "metadata": {
        "id": "view-in-github",
        "colab_type": "text"
      },
      "source": [
        "<a href=\"https://colab.research.google.com/github/jeevan97achar/heartDiseasePrediction/blob/master/Heart_Disease_Prediction.ipynb\" target=\"_parent\"><img src=\"https://colab.research.google.com/assets/colab-badge.svg\" alt=\"Open In Colab\"/></a>"
      ]
    },
    {
      "cell_type": "markdown",
      "source": [
        "Heart Disease Prediction "
      ],
      "metadata": {
        "id": "gBgGgELWA2U6"
      }
    },
    {
      "cell_type": "code",
      "source": [
        "print('This is a test print')"
      ],
      "metadata": {
        "id": "mLM-4tgKA__C"
      },
      "execution_count": null,
      "outputs": []
    }
  ]
}